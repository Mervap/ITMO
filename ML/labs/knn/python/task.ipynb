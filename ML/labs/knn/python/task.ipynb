{
 "cells": [
  {
   "cell_type": "code",
   "execution_count": 1,
   "metadata": {},
   "outputs": [],
   "source": [
    "import pandas as pd\n",
    "\n",
    "def minmax(dataset):\n",
    "  minmax = list()\n",
    "  for i in range(len(dataset[0])):\n",
    "    value_min = dataset[:, i].min()\n",
    "    value_max = dataset[:, i].max()\n",
    "    minmax.append([value_min, value_max])\n",
    "  return minmax\n",
    "\n",
    "\n",
    "def normalize(dataset, minmax):\n",
    "  for row in dataset:\n",
    "    for i in range(len(row)):\n",
    "      if i == len(row) - 1:\n",
    "        continue\n",
    "      row[i] = (row[i] - minmax[i][0]) / (minmax[i][1] - minmax[i][0])\n",
    "  return dataset\n",
    "\n",
    "\n",
    "def factorize(dataset, features):\n",
    "  for feature in features:\n",
    "    dataset[feature] = pd.factorize(dataset[feature])[0]"
   ]
  },
  {
   "cell_type": "code",
   "execution_count": 2,
   "metadata": {
    "pycharm": {
     "name": "#%%\n"
    }
   },
   "outputs": [
    {
     "name": "stdout",
     "output_type": "stream",
     "text": [
      "    mpg  cylinders  displacement horsepower  weight  acceleration  model.year  \\\n",
      "0  18.0          8         307.0      130.0    3504          12.0          70   \n",
      "1  15.0          8         350.0      165.0    3693          11.5          70   \n",
      "2  18.0          8         318.0      150.0    3436          11.0          70   \n",
      "3  16.0          8         304.0      150.0    3433          12.0          70   \n",
      "4  17.0          8         302.0      140.0    3449          10.5          70   \n",
      "\n",
      "   origin  \n",
      "0       1  \n",
      "1       1  \n",
      "2       1  \n",
      "3       1  \n",
      "4       1  \n"
     ]
    }
   ],
   "source": [
    "dataset = pd.read_csv('cars.csv').iloc[:, 1:]\n",
    "print(dataset.head())"
   ]
  },
  {
   "cell_type": "code",
   "execution_count": 3,
   "metadata": {
    "pycharm": {
     "name": "#%%\n"
    }
   },
   "outputs": [
    {
     "name": "stdout",
     "output_type": "stream",
     "text": [
      "          0    1         2         3         4         5    6    7\n",
      "0  0.239362  1.0  0.617571  0.456522  0.536150  0.238095  0.0  0.0\n",
      "1  0.159574  1.0  0.728682  0.646739  0.589736  0.208333  0.0  0.0\n",
      "2  0.239362  1.0  0.645995  0.565217  0.516870  0.178571  0.0  0.0\n",
      "3  0.186170  1.0  0.609819  0.565217  0.516019  0.238095  0.0  0.0\n",
      "4  0.212766  1.0  0.604651  0.510870  0.520556  0.148810  0.0  0.0\n"
     ]
    }
   ],
   "source": [
    "dataset = dataset.replace('?', None).dropna()\n",
    "factorize(dataset, ['origin'])\n",
    "dataset = dataset.apply(pd.to_numeric)\n",
    "min_max = minmax(dataset.values)\n",
    "dataset = pd.DataFrame(normalize(dataset.values, min_max))\n",
    "print(dataset.head())"
   ]
  },
  {
   "cell_type": "code",
   "execution_count": 4,
   "metadata": {
    "pycharm": {
     "name": "#%%\n"
    }
   },
   "outputs": [],
   "source": [
    "from subprocess import Popen, PIPE, STDOUT\n",
    "import os\n",
    "\n",
    "def run(isOneHot, tail):\n",
    "  args = [\"java\", \"-jar\", \"kotlin.jar\"]\n",
    "  my_env = os.environ.copy()\n",
    "  my_env[\"JAVA_HOME\"] = \"/home/Valeriy.Teplyakov/JBJDK-11\"\n",
    "  p = Popen(args, stdout=PIPE, stdin=PIPE, stderr=STDOUT, env=my_env)\n",
    "  input = str(len(dataset)) + \" \" + str(len(dataset.values[0]) - 1)\n",
    "  for row in dataset.values:\n",
    "    loc_inp = \"\"\n",
    "    for i in range(len(row)):\n",
    "      loc_inp += str(row[i]) + \" \"\n",
    "    input += \"\\n\" + loc_inp\n",
    "  if (isOneHot):\n",
    "    input += \"\\ntrue\"\n",
    "  else:\n",
    "    input += \"\\nfalse\"\n",
    "  input += \"\\n\" + tail\n",
    "  p_stdout = p.communicate(input=bytes(input, encoding='utf-8'))[0]\n",
    "  return p_stdout.decode('utf-8').strip()"
   ]
  },
  {
   "cell_type": "code",
   "execution_count": 5,
   "metadata": {
    "pycharm": {
     "name": "#%%\n"
    }
   },
   "outputs": [
    {
     "name": "stdout",
     "output_type": "stream",
     "text": [
      "Micro\n",
      "0.781322354608018\n",
      "MANHATTAN\n",
      "UNIFORM\n",
      "Variable with 1 neighbors\n",
      "\n",
      "Macro\n",
      "0.7798963770920363\n",
      "MANHATTAN\n",
      "UNIFORM\n",
      "Variable with 1 neighbors\n"
     ]
    }
   ],
   "source": [
    "bestCommon = run(False, \"check_all\")\n",
    "print(bestCommon)"
   ]
  },
  {
   "cell_type": "code",
   "execution_count": 17,
   "metadata": {
    "pycharm": {
     "name": "#%%\n"
    }
   },
   "outputs": [
    {
     "name": "stdout",
     "output_type": "stream",
     "text": [
      "0.781322354608018 0.7798963770920363\n",
      "0.7577641459747233 0.7494039700531515\n",
      "0.7334977488284409 0.7121602994977784\n",
      "\n",
      "\n",
      "0.781322354608018 0.7798963770920363\n",
      "0.7577641459747233 0.7494039700531515\n",
      "0.7334977488284409 0.7121602994977784\n"
     ]
    }
   ],
   "source": [
    "outCommonMicro = run(False, \"check_by_type\\n\" + \"\\n\".join(bestCommon.split()[2:5]))\n",
    "outCommonMacro = run(False, \"check_by_type\\n\" + \"\\n\".join(bestCommon.split()[10:13]))\n",
    "print(\"\\n\".join(outCommonMicro.split(\"\\n\")[:3]))\n",
    "print(\"\\n\")\n",
    "print(\"\\n\".join(outCommonMacro.split(\"\\n\")[:3]))"
   ]
  },
  {
   "cell_type": "code",
   "execution_count": 13,
   "metadata": {
    "pycharm": {
     "name": "#%%\n"
    }
   },
   "outputs": [
    {
     "name": "stdout",
     "output_type": "stream",
     "text": [
      "Micro\n",
      "0.7931403985621478\n",
      "MANHATTAN\n",
      "UNIFORM\n",
      "Variable with 2 neighbors\n",
      "\n",
      "Macro\n",
      "0.7827715646217313\n",
      "MANHATTAN\n",
      "TRICUBE\n",
      "Variable with 12 neighbors\n"
     ]
    }
   ],
   "source": [
    "bestOneHot = run(True, \"check_all\")\n",
    "print(bestOneHot)"
   ]
  },
  {
   "cell_type": "code",
   "execution_count": 14,
   "metadata": {
    "pycharm": {
     "name": "#%%\n"
    }
   },
   "outputs": [
    {
     "name": "stdout",
     "output_type": "stream",
     "text": [
      "0.781322354608018 0.7798963770920363\n",
      "0.7931403985621478 0.7814122659825682\n",
      "0.7509204972693526 0.7461480175963836\n",
      "\n",
      "\n",
      "0.781322354608018 0.7798963770920363\n",
      "0.781322354608018 0.7798963770920363\n",
      "0.7757181502892744 0.7745591210233816\n"
     ]
    }
   ],
   "source": [
    "outOneHotMicro = run(True, \"check_by_type\\n\" + \"\\n\".join(bestOneHot.split()[2:5]))\n",
    "outOneHotMacro = run(True, \"check_by_type\\n\" + \"\\n\".join(bestOneHot.split()[10:13]))\n",
    "print(\"\\n\".join(outOneHotMicro.split(\"\\n\")[:3]))\n",
    "print(\"\\n\")\n",
    "print(\"\\n\".join(outOneHotMacro.split(\"\\n\")[:3]))"
   ]
  },
  {
   "cell_type": "code",
   "execution_count": 23,
   "metadata": {
    "pycharm": {
     "name": "#%%\n"
    }
   },
   "outputs": [
    {
     "data": {
      "image/png": "[encoded data removed]",
      "text/plain": [
       "<Figure size 432x288 with 1 Axes>"
      ]
     },
     "metadata": {
      "needs_background": "light"
     },
     "output_type": "display_data"
    }
   ],
   "source": [
    "from matplotlib import pyplot as plt\n",
    "\n",
    "commonData = list(map(float, outCommonMicro.split()))\n",
    "oneHotData = list(map(float, outOneHotMicro.split()))\n",
    "commonFMicro = [commonData[i] for i in range(0, len(commonData), 2)]\n",
    "oneHotFMicro = [oneHotData[i] for i in range(0, len(oneHotData), 2)]\n",
    "\n",
    "_, ax = plt.subplots(1, 1)\n",
    "ax.plot(range(1, 21), commonFMicro[:20], label='Common')\n",
    "ax.plot(range(1, 21), oneHotFMicro[:20], label='OneHot')\n",
    "ax.set_xlabel('Neighbors cnt')\n",
    "ax.set_ylabel('F-micro')\n",
    "ax.legend()\n",
    "ax.grid()"
   ]
  },
  {
   "cell_type": "code",
   "execution_count": 1,
   "metadata": {
    "pycharm": {
     "name": "#%%\n"
    }
   },
   "outputs": [
    {
     "ename": "NameError",
     "evalue": "name 'outCommonMacro' is not defined",
     "output_type": "error",
     "traceback": [
      "\u001B[0;31m---------------------------------------------------------------------------\u001B[0m",
      "\u001B[0;31mNameError\u001B[0m                                 Traceback (most recent call last)",
      "\u001B[0;32m<ipython-input-1-d15cdd214ab9>\u001B[0m in \u001B[0;36m<module>\u001B[0;34m\u001B[0m\n\u001B[1;32m      1\u001B[0m \u001B[0;32mfrom\u001B[0m \u001B[0mmatplotlib\u001B[0m \u001B[0;32mimport\u001B[0m \u001B[0mpyplot\u001B[0m \u001B[0;32mas\u001B[0m \u001B[0mplt\u001B[0m\u001B[0;34m\u001B[0m\u001B[0;34m\u001B[0m\u001B[0m\n\u001B[1;32m      2\u001B[0m \u001B[0;34m\u001B[0m\u001B[0m\n\u001B[0;32m----> 3\u001B[0;31m \u001B[0mcommonData\u001B[0m \u001B[0;34m=\u001B[0m \u001B[0mlist\u001B[0m\u001B[0;34m(\u001B[0m\u001B[0mmap\u001B[0m\u001B[0;34m(\u001B[0m\u001B[0mfloat\u001B[0m\u001B[0;34m,\u001B[0m \u001B[0moutCommonMacro\u001B[0m\u001B[0;34m.\u001B[0m\u001B[0msplit\u001B[0m\u001B[0;34m(\u001B[0m\u001B[0;34m)\u001B[0m\u001B[0;34m)\u001B[0m\u001B[0;34m)\u001B[0m\u001B[0;34m\u001B[0m\u001B[0;34m\u001B[0m\u001B[0m\n\u001B[0m\u001B[1;32m      4\u001B[0m \u001B[0moneHotData\u001B[0m \u001B[0;34m=\u001B[0m \u001B[0mlist\u001B[0m\u001B[0;34m(\u001B[0m\u001B[0mmap\u001B[0m\u001B[0;34m(\u001B[0m\u001B[0mfloat\u001B[0m\u001B[0;34m,\u001B[0m \u001B[0moutOneHotMacro\u001B[0m\u001B[0;34m.\u001B[0m\u001B[0msplit\u001B[0m\u001B[0;34m(\u001B[0m\u001B[0;34m)\u001B[0m\u001B[0;34m)\u001B[0m\u001B[0;34m)\u001B[0m\u001B[0;34m\u001B[0m\u001B[0;34m\u001B[0m\u001B[0m\n\u001B[1;32m      5\u001B[0m \u001B[0mcommonFMacro\u001B[0m \u001B[0;34m=\u001B[0m \u001B[0;34m[\u001B[0m\u001B[0mcommonData\u001B[0m\u001B[0;34m[\u001B[0m\u001B[0mi\u001B[0m\u001B[0;34m]\u001B[0m \u001B[0;32mfor\u001B[0m \u001B[0mi\u001B[0m \u001B[0;32min\u001B[0m \u001B[0mrange\u001B[0m\u001B[0;34m(\u001B[0m\u001B[0;36m1\u001B[0m\u001B[0;34m,\u001B[0m \u001B[0mlen\u001B[0m\u001B[0;34m(\u001B[0m\u001B[0mcommonData\u001B[0m\u001B[0;34m)\u001B[0m\u001B[0;34m,\u001B[0m \u001B[0;36m2\u001B[0m\u001B[0;34m)\u001B[0m\u001B[0;34m]\u001B[0m\u001B[0;34m\u001B[0m\u001B[0;34m\u001B[0m\u001B[0m\n",
      "\u001B[0;31mNameError\u001B[0m: name 'outCommonMacro' is not defined"
     ]
    }
   ],
   "source": [
    "from matplotlib import pyplot as plt\n",
    "\n",
    "commonData = list(map(float, outCommonMacro.split()))\n",
    "oneHotData = list(map(float, outOneHotMacro.split()))\n",
    "commonFMacro = [commonData[i] for i in range(1, len(commonData), 2)]\n",
    "oneHotFMacro = [oneHotData[i] for i in range(1, len(oneHotData), 2)]\n",
    "\n",
    "_, ax = plt.subplots(1, 1)\n",
    "ax.plot(range(1, 21), commonFMacro[:20], label='Common')\n",
    "ax.plot(range(1, 21), oneHotFMacro[:20], label='OneHot')\n",
    "ax.set_xlabel('Neighbors cnt')\n",
    "ax.set_ylabel('F-macro')\n",
    "ax.legend()\n",
    "ax.grid()"
   ]
  }
 ],
 "metadata": {
  "kernelspec": {
   "display_name": "Python 3",
   "language": "python",
   "name": "python3"
  },
  "language_info": {
   "codemirror_mode": {
    "name": "ipython",
    "version": 3
   },
   "file_extension": ".py",
   "mimetype": "text/x-python",
   "name": "python",
   "nbconvert_exporter": "python",
   "pygments_lexer": "ipython3",
   "version": "3.8.5"
  }
 },
 "nbformat": 4,
 "nbformat_minor": 1
}