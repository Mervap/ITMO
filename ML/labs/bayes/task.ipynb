{
 "cells": [
  {
   "cell_type": "code",
   "execution_count": 80,
   "metadata": {
    "pycharm": {
     "name": "#%%\n"
    }
   },
   "outputs": [],
   "source": [
    "from sklearn.base import BaseEstimator\n",
    "\n",
    "class Bayes(BaseEstimator):\n",
    "\n",
    "    def __init__(self, alpha=1, lambdas=[1, 1], ngram_cnt=1):\n",
    "        self.p = 25013\n",
    "        self.k = len(lambdas)\n",
    "        self.ngram_cnt = ngram_cnt\n",
    "        self.alpha = alpha\n",
    "        self.lambdas = lambdas\n",
    "        self.n = 0\n",
    "        self.all_ngrams=None\n",
    "        self.logn = None\n",
    "        self.ps = None\n",
    "        self.messages_count = None\n",
    "        self.word_count = None\n",
    "        self.rev_prob = None\n",
    "        self.prob = None\n",
    "\n",
    "    def fit(self, xs, ys):\n",
    "        self.n = len(xs)\n",
    "        self.k = len(self.lambdas)\n",
    "        self.all_ngrams = set()\n",
    "        self.ps = [self.p ** i for i in range(0, self.ngram_cnt)]\n",
    "        self.messages_count = np.zeros(self.k, dtype=int)\n",
    "        self.word_count = np.array([{} for _ in range(self.k)])\n",
    "        self.rev_prob = np.array([{} for _ in range(self.k)])\n",
    "        self.prob = np.array([{} for _ in range(self.k)])\n",
    "\n",
    "        for i in range(self.n):\n",
    "            words, c = xs[i], int(ys[i])\n",
    "            w_len = len(words)\n",
    "            self.messages_count[c] += 1\n",
    "            wc = self.word_count[c]\n",
    "            ngram_cnt = min(self.ngram_cnt, w_len)\n",
    "            ngram = 0\n",
    "            cur_ngram = set()\n",
    "            for j in range(ngram_cnt - 1):\n",
    "                ngram += words[j] * self.ps[j]\n",
    "            for j in range(ngram_cnt - 1, w_len):\n",
    "                ngram += words[j] * self.ps[ngram_cnt - 1]\n",
    "                if ngram not in cur_ngram:\n",
    "                    wc[ngram] = wc.get(ngram, 0) + 1\n",
    "                    cur_ngram.add(ngram)\n",
    "                    self.all_ngrams.add(ngram)\n",
    "                ngram -= words[j - ngram_cnt + 1]\n",
    "                ngram /= self.p\n",
    "\n",
    "        for c in range(self.k):\n",
    "            wc = self.word_count[c]\n",
    "            div = self.messages_count[c] + 2 * self.alpha\n",
    "            class_prob = self.prob[c]\n",
    "            class_rev_prob = self.rev_prob[c]\n",
    "            for word in self.all_ngrams:\n",
    "                class_prob[word] = (wc.get(word, 0) + self.alpha) / div\n",
    "                class_rev_prob[word] = 1 - class_prob[word]\n",
    "\n",
    "    def predict_msg(self, xs):\n",
    "        ngrams = set()\n",
    "        w_len = len(xs)\n",
    "        ngram_cnt = min(self.ngram_cnt, w_len)\n",
    "        ngram = 0\n",
    "        for j in range(ngram_cnt - 1):\n",
    "            ngram += xs[j] * self.ps[j]\n",
    "        for j in range(ngram_cnt - 1, w_len):\n",
    "            ngram += xs[j] * self.ps[ngram_cnt - 1]\n",
    "            ngrams.add(ngram)\n",
    "            ngram -= xs[j - ngram_cnt + 1]\n",
    "            ngram /= self.p\n",
    "\n",
    "        anss = [self.lambdas[c] * self.messages_count[c] / self.n for c in range(self.k)]\n",
    "        for c in range(self.k):\n",
    "            if self.messages_count[c] == 0:\n",
    "                continue\n",
    "            for word in self.all_ngrams:\n",
    "                if word in ngrams:\n",
    "                    anss[c] *= self.prob[c].get(word, 1)\n",
    "                else:\n",
    "                    anss[c] *= self.rev_prob[c].get(word, 1)\n",
    "\n",
    "        s = sum(anss)\n",
    "        if s == 0:\n",
    "            return 0\n",
    "        anss = list(map(lambda x: x / s, anss))\n",
    "        return anss.index(max(anss))\n",
    "\n",
    "    def predict(self, xs):\n",
    "        return np.array(list(map(self.predict_msg, xs)))"
   ]
  },
  {
   "cell_type": "code",
   "execution_count": 81,
   "metadata": {},
   "outputs": [],
   "source": [
    "from os import listdir\n",
    "import numpy as np\n",
    "\n",
    "def read_file(ind, filename):\n",
    "    with open(\"part{}/{}\".format(ind, filename), \"r\") as file:\n",
    "        x = np.array(list(map(int, file.read().split()[1:])))\n",
    "        y = 1 if \"spmsg\" in filename else 0\n",
    "        return x, y, max(x)\n",
    "\n",
    "def read_part(ind):\n",
    "    files = listdir(\"part{}\".format(ind))\n",
    "    mx = -1\n",
    "    xs, ys = [], []\n",
    "    for filename in files:\n",
    "        x, y, mx_x = read_file(ind, filename)\n",
    "        mx = max(mx, mx_x)\n",
    "        xs.append(x)\n",
    "        ys.append(y)\n",
    "    return np.array(xs, dtype=object), np.array(ys), mx\n",
    "\n",
    "def read_all():\n",
    "    mx = -1\n",
    "    xs, ys = [], []\n",
    "    for ind in range(0, 10):\n",
    "        x, y, mx_x = read_part(ind + 1)\n",
    "        mx = max(mx, mx_x)\n",
    "        xs.extend(x)\n",
    "        ys.extend(y)\n",
    "    print(\"Max word: {}\".format(mx))\n",
    "    return np.array(xs, dtype=object), np.array(ys)"
   ]
  },
  {
   "cell_type": "code",
   "execution_count": 82,
   "metadata": {},
   "outputs": [
    {
     "name": "stdout",
     "output_type": "stream",
     "text": [
      "Max word: 24747\n"
     ]
    }
   ],
   "source": [
    "mx = -1\n",
    "xs, ys = read_all()"
   ]
  },
  {
   "cell_type": "code",
   "execution_count": 83,
   "metadata": {},
   "outputs": [
    {
     "name": "stdout",
     "output_type": "stream",
     "text": [
      "Fitting 10 folds for each of 36 candidates, totalling 360 fits\n"
     ]
    },
    {
     "name": "stderr",
     "output_type": "stream",
     "text": [
      "[Parallel(n_jobs=-1)]: Using backend LokyBackend with 12 concurrent workers.\n",
      "[Parallel(n_jobs=-1)]: Done  48 tasks      | elapsed:  5.6min\n",
      "[Parallel(n_jobs=-1)]: Done 138 tasks      | elapsed: 15.6min\n",
      "[Parallel(n_jobs=-1)]: Done 264 tasks      | elapsed: 26.6min\n",
      "[Parallel(n_jobs=-1)]: Done 360 out of 360 | elapsed: 35.3min finished\n"
     ]
    },
    {
     "name": "stdout",
     "output_type": "stream",
     "text": [
      "Best acc score: 0.8082568807339451\n",
      "On params: {'alpha': 1e-06, 'ngram_cnt': 1}\n"
     ]
    }
   ],
   "source": [
    "from sklearn.model_selection import GridSearchCV\n",
    "\n",
    "params = {\n",
    "    \"alpha\": [10 ** i for i in range(-7, 5)],\n",
    "    \"ngram_cnt\": list(range(1, 4))\n",
    "}\n",
    "best_acc = GridSearchCV(Bayes(), params, cv=10, n_jobs=-1, scoring=\"accuracy\", verbose=5)\n",
    "best_acc.fit(xs, ys)\n",
    "\n",
    "print(\"Best acc score: {}\".format(best_acc.best_score_))\n",
    "print(\"On params: {}\".format(best_acc.best_params_))"
   ]
  },
  {
   "cell_type": "code",
   "execution_count": 84,
   "metadata": {},
   "outputs": [
    {
     "name": "stdout",
     "output_type": "stream",
     "text": [
      "10/10"
     ]
    },
    {
     "data": {
      "image/png": "[encoded data removed]",
      "text/plain": [
       "<Figure size 1008x720 with 1 Axes>"
      ]
     },
     "metadata": {
      "needs_background": "light"
     },
     "output_type": "display_data"
    }
   ],
   "source": [
    "import matplotlib.pyplot as plt\n",
    "from sklearn.model_selection import KFold\n",
    "\n",
    "best_params = best_acc.best_params_\n",
    "alpha, ngram_cnt = best_params[\"alpha\"], best_params[\"ngram_cnt\"]\n",
    "\n",
    "bayes = Bayes(alpha=alpha, ngram_cnt=ngram_cnt)\n",
    "folder = KFold(10, shuffle=False)\n",
    "tpr, fpr = [0, 1], [0, 1]\n",
    "\n",
    "cur = 0\n",
    "for train_ind, test_ind in folder.split(xs):\n",
    "    cur += 1\n",
    "    print(\"\\r{}/{}\".format(cur, 10), end='')\n",
    "    cm = [[0, 0], [0, 0]]\n",
    "    train_xs, train_ys = xs[train_ind], ys[train_ind]\n",
    "    test_xs, test_ys = xs[test_ind], ys[test_ind]\n",
    "    bayes.fit(train_xs, train_ys)\n",
    "    pred = bayes.predict(test_xs)\n",
    "    for i in range(len(pred)):\n",
    "        cm[test_ys[i]][pred[i]] += 1\n",
    "    tpr.append(cm[1][1] / (cm[1][1] + cm[1][0]))\n",
    "    fpr.append(cm[0][1] / (cm[0][1] + cm[0][0]))\n",
    "\n",
    "tpr.sort()\n",
    "fpr.sort()\n",
    "\n",
    "plt.figure(figsize=(14, 10))\n",
    "plt.plot(fpr, tpr, linewidth=2)\n",
    "plt.plot([0, 1], [0, 1], \"k--\")\n",
    "plt.xlabel(\"False Positive Rate, FPR (1 - specificity)\")\n",
    "plt.ylabel(\"True Positive Rate, TPR (Recall)\")\n",
    "plt.title(\"ROC curve\")\n",
    "plt.show()"
   ]
  },
  {
   "cell_type": "code",
   "execution_count": 85,
   "metadata": {},
   "outputs": [],
   "source": [
    "from sklearn.metrics import accuracy_score\n",
    "\n",
    "def score_spam(y_true, y_pred):\n",
    "    acc = accuracy_score(y_true, y_pred)\n",
    "    f_spam = sum([y_true[i] == 0 and y_pred[i] == 1 for i in range(len(y_true))])\n",
    "    return acc - 100 * f_spam"
   ]
  },
  {
   "cell_type": "code",
   "execution_count": 86,
   "metadata": {
    "pycharm": {
     "name": "#%%\n"
    },
    "scrolled": false
   },
   "outputs": [
    {
     "name": "stdout",
     "output_type": "stream",
     "text": [
      "Fitting 10 folds for each of 360 candidates, totalling 3600 fits\n"
     ]
    },
    {
     "name": "stderr",
     "output_type": "stream",
     "text": [
      "[Parallel(n_jobs=-1)]: Using backend LokyBackend with 12 concurrent workers.\n",
      "[Parallel(n_jobs=-1)]: Done  48 tasks      | elapsed:   47.8s\n",
      "[Parallel(n_jobs=-1)]: Done 138 tasks      | elapsed:  2.3min\n",
      "[Parallel(n_jobs=-1)]: Done 264 tasks      | elapsed:  4.3min\n",
      "[Parallel(n_jobs=-1)]: Done 426 tasks      | elapsed:  6.8min\n",
      "[Parallel(n_jobs=-1)]: Done 624 tasks      | elapsed:  9.9min\n",
      "[Parallel(n_jobs=-1)]: Done 858 tasks      | elapsed: 13.3min\n",
      "[Parallel(n_jobs=-1)]: Done 1128 tasks      | elapsed: 17.7min\n",
      "[Parallel(n_jobs=-1)]: Done 1434 tasks      | elapsed: 22.9min\n",
      "[Parallel(n_jobs=-1)]: Done 1776 tasks      | elapsed: 28.1min\n",
      "[Parallel(n_jobs=-1)]: Done 2154 tasks      | elapsed: 34.0min\n",
      "[Parallel(n_jobs=-1)]: Done 2568 tasks      | elapsed: 40.1min\n",
      "[Parallel(n_jobs=-1)]: Done 3018 tasks      | elapsed: 47.1min\n",
      "[Parallel(n_jobs=-1)]: Done 3504 tasks      | elapsed: 54.6min\n",
      "[Parallel(n_jobs=-1)]: Done 3600 out of 3600 | elapsed: 55.9min finished\n"
     ]
    },
    {
     "name": "stdout",
     "output_type": "stream",
     "text": [
      "Best score: 0.8027522935779817\n",
      "On params: {'alpha': 1e-06, 'lambdas': [10000, 1]}\n"
     ]
    }
   ],
   "source": [
    "from sklearn.metrics import make_scorer\n",
    "\n",
    "params = {\n",
    "    \"alpha\": [10 ** i for i in range(-7, 5)],\n",
    "    \"lambdas\": [[10 ** i, 1] for i in range(0, 30)]\n",
    "}\n",
    "lambda_search = GridSearchCV(Bayes(), params, cv=10, n_jobs=-1, scoring=make_scorer(score_spam), verbose=5)\n",
    "lambda_search.fit(xs, ys)\n",
    "\n",
    "print(\"Best score: {}\".format(lambda_search.best_score_))\n",
    "print(\"On params: {}\".format(lambda_search.best_params_))"
   ]
  },
  {
   "cell_type": "code",
   "execution_count": 87,
   "metadata": {
    "scrolled": false
   },
   "outputs": [
    {
     "name": "stdout",
     "output_type": "stream",
     "text": [
      "Fitting 10 folds for each of 100 candidates, totalling 1000 fits\n"
     ]
    },
    {
     "name": "stderr",
     "output_type": "stream",
     "text": [
      "[Parallel(n_jobs=-1)]: Using backend LokyBackend with 12 concurrent workers.\n",
      "[Parallel(n_jobs=-1)]: Done  48 tasks      | elapsed:   50.2s\n",
      "[Parallel(n_jobs=-1)]: Done 138 tasks      | elapsed:  2.4min\n",
      "[Parallel(n_jobs=-1)]: Done 264 tasks      | elapsed:  4.3min\n",
      "[Parallel(n_jobs=-1)]: Done 426 tasks      | elapsed:  6.7min\n",
      "[Parallel(n_jobs=-1)]: Done 624 tasks      | elapsed:  9.7min\n",
      "[Parallel(n_jobs=-1)]: Done 858 tasks      | elapsed: 13.2min\n",
      "[Parallel(n_jobs=-1)]: Done 1000 out of 1000 | elapsed: 15.5min finished\n"
     ]
    },
    {
     "data": {
      "image/png": "[encoded data removed]",
      "text/plain": [
       "<Figure size 1008x720 with 1 Axes>"
      ]
     },
     "metadata": {
      "needs_background": "light"
     },
     "output_type": "display_data"
    }
   ],
   "source": [
    "best_params = lambda_search.best_params_\n",
    "max_lambdas = best_params[\"lambdas\"][0]\n",
    "params = {\n",
    "    \"lambdas\": [[i, 1] for i in np.linspace(1, max_lambdas, 100)]\n",
    "}\n",
    "lambda_stats = GridSearchCV(Bayes(alpha=best_params[\"alpha\"]), params, cv=10, n_jobs=-1, scoring=\"accuracy\", verbose=5)\n",
    "lambda_stats.fit(xs, ys)\n",
    "\n",
    "lambdas_ = [i for i in np.linspace(1, max_lambdas, 100)]\n",
    "accuracy_ = lambda_stats.cv_results_[\"mean_test_score\"]\n",
    "plt.figure(figsize=(14, 10))\n",
    "plt.semilogx(lambdas_, accuracy_, linewidth=2)\n",
    "plt.xlabel('λ legit')\n",
    "plt.ylabel('Accaracy')\n",
    "plt.show()"
   ]
  }
 ],
 "metadata": {
  "kernelspec": {
   "display_name": "Python 3",
   "language": "python",
   "name": "python3"
  },
  "language_info": {
   "codemirror_mode": {
    "name": "ipython",
    "version": 3
   },
   "file_extension": ".py",
   "mimetype": "text/x-python",
   "name": "python",
   "nbconvert_exporter": "python",
   "pygments_lexer": "ipython3",
   "version": "3.7.9"
  }
 },
 "nbformat": 4,
 "nbformat_minor": 1
}