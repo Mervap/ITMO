{
 "cells": [
  {
   "cell_type": "code",
   "execution_count": 1,
   "metadata": {},
   "outputs": [
    {
     "data": {
      "text/plain": [
       "Univariate Polynomial Ring in x over Finite Field in a of size 2^5"
      ]
     },
     "execution_count": 1,
     "metadata": {},
     "output_type": "execute_result"
    }
   ],
   "source": [
    "base = 2 \n",
    "size = base ^ 5\n",
    "Field.<a> = GF(size)\n",
    "PolyRing.<x> = PolynomialRing(Field)\n",
    "PolyRing"
   ]
  },
  {
   "cell_type": "code",
   "execution_count": 2,
   "metadata": {},
   "outputs": [
    {
     "name": "stdout",
     "output_type": "stream",
     "text": [
      "0\n",
      "a\n",
      "a^2\n",
      "a^3\n",
      "a^4\n",
      "a^2 + 1\n",
      "a^3 + a\n",
      "a^4 + a^2\n",
      "a^3 + a^2 + 1\n",
      "a^4 + a^3 + a\n",
      "a^4 + 1\n",
      "a^2 + a + 1\n",
      "a^3 + a^2 + a\n",
      "a^4 + a^3 + a^2\n",
      "a^4 + a^3 + a^2 + 1\n",
      "a^4 + a^3 + a^2 + a + 1\n",
      "a^4 + a^3 + a + 1\n",
      "a^4 + a + 1\n",
      "a + 1\n",
      "a^2 + a\n",
      "a^3 + a^2\n",
      "a^4 + a^3\n",
      "a^4 + a^2 + 1\n",
      "a^3 + a^2 + a + 1\n",
      "a^4 + a^3 + a^2 + a\n",
      "a^4 + a^3 + 1\n",
      "a^4 + a^2 + a + 1\n",
      "a^3 + a + 1\n",
      "a^4 + a^2 + a\n",
      "a^3 + 1\n",
      "a^4 + a\n",
      "1\n"
     ]
    }
   ],
   "source": [
    "for el in Field:\n",
    "    print(el)"
   ]
  },
  {
   "cell_type": "code",
   "execution_count": 3,
   "metadata": {},
   "outputs": [
    {
     "name": "stdout",
     "output_type": "stream",
     "text": [
      "a^5 + a^2 + 1 = 0\n",
      "Cyclotomic classes:\n",
      "  a^1, a^2, a^4, a^8, a^16\n",
      "  a^3, a^6, a^12, a^17, a^24\n",
      "  a^5, a^9, a^10, a^18, a^20\n",
      "  a^7, a^14, a^19, a^25, a^28\n",
      "  a^11, a^13, a^21, a^22, a^26\n",
      "  a^15, a^23, a^27, a^29, a^30\n",
      "  a^0\n"
     ]
    }
   ],
   "source": [
    "import numpy as np\n",
    "\n",
    "alpha = Field.multiplicative_generator()\n",
    "print(\"a^5 + a^2 + 1 =\", alpha ^ 5 + alpha ^ 2 + 1)\n",
    "# b = 21, y = (α12, α24, α18, α23, α27, α21, α11, α25, α28, α30, α28, 0, α6, α17, α17, α12, α14, α29, α30, α21, α11, α0, α21, α7, α27, α7, α4, α8, α13, α29, α28)\n",
    "\n",
    "ind_map = {}\n",
    "for i in range(size - 1):\n",
    "    ind_map[alpha ^ i] = i\n",
    "    \n",
    "res = []\n",
    "_all = set()\n",
    "for e in Field:\n",
    "    if e == 0:\n",
    "        continue\n",
    "    if e in _all:\n",
    "        continue\n",
    "    cur = set()\n",
    "    while not (e in cur):\n",
    "        cur.add(e)\n",
    "        _all.add(e)\n",
    "        e = e ^ base\n",
    "    res.append(list(cur))\n",
    "\n",
    "print(\"Cyclotomic classes:\")\n",
    "all_ind = []\n",
    "for l in res:\n",
    "    inds = []\n",
    "    for el in l:\n",
    "        inds.append(ind_map[el] % size)\n",
    "    inds.sort()\n",
    "    all_ind.append(inds)\n",
    "    print(\" \", \", \".join(map(lambda p: \"a^{}\".format(p), inds)))\n"
   ]
  },
  {
   "cell_type": "code",
   "execution_count": 4,
   "metadata": {},
   "outputs": [
    {
     "name": "stdout",
     "output_type": "stream",
     "text": [
      "x^20 + x^18 + x^16 + x^14 + x^13 + x^11 + x^10 + x^7 + x^3 + x^2 + 1\n"
     ]
    }
   ],
   "source": [
    "m_alpha = {}\n",
    "for cyclo_class in all_ind:\n",
    "    m_a = 1\n",
    "    for p in cyclo_class:\n",
    "        m_a = m_a * (x - alpha ^ p)\n",
    "    for p in cyclo_class:\n",
    "        m_alpha[p] = m_a\n",
    "\n",
    "b = 21\n",
    "n = size - 1\n",
    "k = 21\n",
    "d = n - k + 1\n",
    "g = 1\n",
    "for i in range(b, b + d - 1):\n",
    "    g = g.lcm(m_alpha[i])\n",
    "print(g)"
   ]
  },
  {
   "cell_type": "code",
   "execution_count": 5,
   "metadata": {},
   "outputs": [
    {
     "name": "stdout",
     "output_type": "stream",
     "text": [
      "S1: a^15\n",
      "S2: a^15\n",
      "S3: a^22\n",
      "S4: a^20\n",
      "S5: a^0\n",
      "S6: a^27\n",
      "S7: a^20\n",
      "S8: a^18\n",
      "S9: a^10\n",
      "S10: a^17\n"
     ]
    }
   ],
   "source": [
    "y_coef = [12, 24, 18, 23, 27, 21, 11, 25, 28, 30, 28, None, 6, 17, 17, 12, 14, 29, 30, 21, 11, 0, 21, 7, 27, 7, 4, 8, 13, 29, 28]\n",
    "# y_coef = y_coef[::-1]\n",
    "y = 0\n",
    "for p in range(len(y_coef)):\n",
    "    if y_coef[p] != None:\n",
    "        y = y + x ^ p * alpha ^ y_coef[p] \n",
    "\n",
    "S = 0\n",
    "for i in range(b, b + d - 1):\n",
    "    ff = y(alpha ^ i)\n",
    "    S = S + x ^ (i - b) * ff\n",
    "    if ff == 0:\n",
    "        print(\"S{}: 0\".format(i - b + 1))\n",
    "    else:\n",
    "        print(\"S{}: a^{}\".format(i - b + 1, ind_map[ff]))"
   ]
  },
  {
   "cell_type": "code",
   "execution_count": 6,
   "metadata": {},
   "outputs": [
    {
     "name": "stdout",
     "output_type": "stream",
     "text": [
      "1\n",
      "(a^4 + a^3 + a^2 + a + 1)*x + 1\n",
      "a^4 + a^3 + a^2 + a + 1\n",
      "---\n",
      "1\n",
      "x + 1\n",
      "a^3 + a^2 + 1\n",
      "---\n",
      "2\n",
      "(a^4 + a^2 + 1)*x^2 + x + 1\n",
      "a^3 + a\n",
      "---\n",
      "2\n",
      "(a^4 + a)*x^2 + (a^2 + a)*x + 1\n",
      "a^4 + a + 1\n",
      "---\n",
      "3\n",
      "a*x^3 + a^4*x^2 + (a^2 + a)*x + 1\n",
      "a^4 + a^2\n",
      "---\n",
      "3\n",
      "(a^2 + a + 1)*x^3 + (a^3 + 1)*x^2 + (a^3 + a^2)*x + 1\n",
      "a^4 + a^3 + a^2\n",
      "---\n",
      "4\n",
      "(a^4 + a^2)*x^4 + (a^3 + a^2)*x^3 + a^2*x^2 + (a^3 + a^2)*x + 1\n",
      "a^4 + a^3 + a^2 + a + 1\n",
      "---\n",
      "4\n",
      "x^4 + (a^4 + a^2 + a)*x^3 + (a^2 + 1)*x^2 + (a^3 + a + 1)*x + 1\n",
      "a^4 + a^2 + a + 1\n",
      "---\n",
      "5\n",
      "a^2*x^5 + (a^3 + a^2 + 1)*x^4 + (a^4 + 1)*x^3 + a^4*x^2 + (a^3 + a + 1)*x + 1\n",
      "a^3 + a\n",
      "---\n",
      "5\n",
      "(a^2 + 1)*x^5 + (a^4 + a^3 + a + 1)*x^4 + (a^4 + a^2)*x^3 + (a^4 + a^3 + a + 1)*x^2 + (a^3 + a)*x + 1\n",
      "a^3 + a\n",
      "---\n",
      "\n",
      "(a^2 + 1)*x^5 + (a^4 + a^3 + a + 1)*x^4 + (a^4 + a^2)*x^3 + (a^4 + a^3 + a + 1)*x^2 + (a^3 + a)*x + 1\n"
     ]
    }
   ],
   "source": [
    "L = 0\n",
    "lmd = x ^ 0\n",
    "B = x ^ 0\n",
    "for r in range(d - 1):\n",
    "    delta = 0\n",
    "    for j in range(L + 1):\n",
    "        delta += lmd[j] * S[r - j]\n",
    "    B = x * B\n",
    "    if delta != 0:\n",
    "        t = lmd - delta * B\n",
    "        if 2 * L <= r:\n",
    "            B = delta ^ (-1) * lmd\n",
    "            L = r + 1 - L\n",
    "        lmd = t\n",
    "    print(L)\n",
    "    print(lmd)\n",
    "    print(delta)\n",
    "    print(\"---\")\n",
    "print()    \n",
    "print(lmd)"
   ]
  },
  {
   "cell_type": "code",
   "execution_count": 7,
   "metadata": {},
   "outputs": [
    {
     "name": "stdout",
     "output_type": "stream",
     "text": [
      "[7, 8, 14, 16, 22]\n"
     ]
    }
   ],
   "source": [
    "def pos(root):\n",
    "    return ind_map[root[0] ^ (-1)]\n",
    "\n",
    "poss = []\n",
    "for root in lmd.roots():\n",
    "    poss.append(pos(root))\n",
    "poss.sort()\n",
    "print(poss)"
   ]
  },
  {
   "cell_type": "code",
   "execution_count": 8,
   "metadata": {},
   "outputs": [
    {
     "name": "stdout",
     "output_type": "stream",
     "text": [
      "a^0, a^9, a^6, a^30, a^5\n"
     ]
    }
   ],
   "source": [
    "G = lmd * S % x ^ (d - 1)\n",
    "values = []\n",
    "for i in range(len(poss)):\n",
    "    div = 1\n",
    "    invX = (alpha ^ poss[i]) ^ (-1)\n",
    "    for j in range(len(poss)):\n",
    "        if i != j:\n",
    "            div *= 1 - alpha ^ poss[j] * invX\n",
    "    st = invX ^ b * G(invX) / div\n",
    "    values.append(ind_map[st])\n",
    "print(\", \".join(map(lambda p: \"a^{}\".format(p), values)))\n"
   ]
  }
 ],
 "metadata": {
  "kernelspec": {
   "display_name": "SageMath 9.2",
   "language": "sage",
   "name": "sagemath"
  },
  "language_info": {
   "codemirror_mode": {
    "name": "ipython",
    "version": 3
   },
   "file_extension": ".py",
   "mimetype": "text/x-python",
   "name": "python",
   "nbconvert_exporter": "python",
   "pygments_lexer": "ipython3",
   "version": "3.8.5"
  }
 },
 "nbformat": 4,
 "nbformat_minor": 4
}
