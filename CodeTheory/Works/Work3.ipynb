{
 "cells": [
  {
   "cell_type": "code",
   "execution_count": 1,
   "metadata": {
    "scrolled": false
   },
   "outputs": [],
   "source": [
    "Field = GF(2)\n",
    "PolyRing.<S> = PolynomialRing(Field)\n",
    "var('D', 'I')\n",
    "\n",
    "# [D^2, D^2+D, D^2+D+1]\n",
    "gens = [\n",
    "    S^2,\n",
    "    S^2 + S,\n",
    "    S^2 + S + 1\n",
    "]\n",
    "\n",
    "degrees = list(map(lambda x: x.degree(), gens))"
   ]
  },
  {
   "cell_type": "code",
   "execution_count": 2,
   "metadata": {},
   "outputs": [
    {
     "name": "stdout",
     "output_type": "stream",
     "text": [
      "{'00': {0: ('00', [0, 0, 0], 1), 1: ('10', [0, 0, 1], D)}, '01': {0: ('00', [1, 1, 1], D^3), 1: ('10', [1, 1, 0], D^2)}, '10': {0: ('01', [0, 1, 1], D^2), 1: ('11', [0, 1, 0], D)}, '11': {0: ('01', [1, 0, 0], D), 1: ('11', [1, 0, 1], D^2)}}\n"
     ]
    }
   ],
   "source": [
    "import itertools as it\n",
    "import numpy as np\n",
    "\n",
    "reg_len = max(degrees)\n",
    "\n",
    "def reg_to_str(reg): return \"\".join(map(str, reg))\n",
    "\n",
    "edges = {}\n",
    "all_ger_states = list(it.product([0, 1], repeat=reg_len))\n",
    "for reg_state in all_ger_states:\n",
    "    vec = reg_to_str(reg_state)\n",
    "    edges[vec] = {}\n",
    "    \n",
    "def calc_outputs(adjasted_reg):\n",
    "    res_vec = []\n",
    "    for gen in gens:\n",
    "        gg = gen.list()\n",
    "        gg = gg + [0] * (reg_len - len(gg) + 1)\n",
    "        res_vec.append(np.dot(adjasted_reg, gg))\n",
    "    return res_vec\n",
    "    \n",
    "def process_node(reg_state):\n",
    "    vec = reg_to_str(reg_state)\n",
    "    if len(edges[vec]) > 0: \n",
    "        return\n",
    "    \n",
    "    reg0 = [0] + reg_state\n",
    "    next_node = reg0[:-1]\n",
    "    outs = calc_outputs(reg0)\n",
    "    edges[vec][0] = (reg_to_str(next_node), outs, D ^ sum(map(int, outs)))\n",
    "    process_node(next_node)\n",
    "    \n",
    "    reg1 = [1] + reg_state\n",
    "    next_node = reg1[:-1]\n",
    "    outs = calc_outputs(reg1)\n",
    "    edges[vec][1] = (reg_to_str(next_node), outs, D ^ sum(map(int, outs)))\n",
    "#     edges[vec][1] = (reg_to_str(next_node), outs, I * D ^ sum(map(int, outs)))\n",
    "    process_node(next_node)\n",
    "    \n",
    "process_node([0] * reg_len)\n",
    "print(edges)"
   ]
  },
  {
   "cell_type": "code",
   "execution_count": 3,
   "metadata": {},
   "outputs": [],
   "source": [
    "import graphviz as gv\n",
    "\n",
    "def printGraph(edges):\n",
    "    gr = gv.Digraph(engine='dot')\n",
    "    for reg_state in all_ger_states:\n",
    "        as_str = reg_to_str(reg_state)\n",
    "        gr.node(as_str)\n",
    "\n",
    "    for reg_state in all_ger_states:\n",
    "        as_str = reg_to_str(reg_state)\n",
    "        (next_node, elems, err) = edges[as_str][0]\n",
    "        gr.edge(as_str, next_node, label=f'0/{reg_to_str(elems)}/{err}')\n",
    "        \n",
    "        (next_node, elems, err) = edges[as_str][1]\n",
    "        gr.edge(as_str, next_node, label=f'1/{reg_to_str(elems)}/{err}', color='orange', fontcolor='orange')\n",
    "    return gr\n",
    "\n",
    "gr = printGraph(edges)"
   ]
  },
  {
   "cell_type": "code",
   "execution_count": 4,
   "metadata": {},
   "outputs": [
    {
     "data": {
      "text/plain": [
       "'Digraph.gv.pdf'"
      ]
     },
     "execution_count": 4,
     "metadata": {},
     "output_type": "execute_result"
    }
   ],
   "source": [
    "gr.view()"
   ]
  },
  {
   "cell_type": "code",
   "execution_count": 5,
   "metadata": {},
   "outputs": [
    {
     "name": "stdout",
     "output_type": "stream",
     "text": [
      "[[1 -D^3 0 0]\n",
      " [0 1 -D^2 -D]\n",
      " [0 -D^2 1 0]\n",
      " [0 0 -D -D^2 + 1]]\n",
      "[0, 0, D, 0]\n"
     ]
    }
   ],
   "source": [
    "all_ger_len = len(all_ger_states)\n",
    "A = [[0 for j in range(all_ger_len)] for i in range(all_ger_len)]\n",
    "b = [0 for i in range(all_ger_len)]\n",
    "\n",
    "for reg_state in all_ger_states:\n",
    "    as_str = reg_to_str(reg_state)\n",
    "    num = int(as_str, 2)\n",
    "    A[num][num] = 1\n",
    "    \n",
    "    (to0, _, err) = edges[as_str][0]\n",
    "    if as_str != to0:\n",
    "        num_to0 = int(to0, 2)\n",
    "        if num == 0:\n",
    "            b[num_to0] += err\n",
    "        else:\n",
    "            A[num_to0][num] -= err\n",
    "    \n",
    "    (to1, _, err) = edges[as_str][1]\n",
    "    num_to1 = int(to1, 2)\n",
    "    if num == 0:\n",
    "        b[num_to1] += err\n",
    "    else:\n",
    "        A[num_to1][num] -= err\n",
    "\n",
    "print(np.array(A))\n",
    "print(b)"
   ]
  },
  {
   "cell_type": "code",
   "execution_count": 6,
   "metadata": {},
   "outputs": [
    {
     "name": "stdout",
     "output_type": "stream",
     "text": [
      "-(D^8 - 2*D^6)/(D^6 - 2*D^4 - D^2 + 1)\n",
      "-(D^5 - 2*D^3)/(D^6 - 2*D^4 - D^2 + 1)\n",
      "-(D^3 - D)/(D^6 - 2*D^4 - D^2 + 1)\n",
      "D^2/(D^6 - 2*D^4 - D^2 + 1)\n"
     ]
    }
   ],
   "source": [
    "solution = Matrix(A).solve_right(vector(b))\n",
    "for e in solution:\n",
    "    print(e.full_simplify())"
   ]
  },
  {
   "cell_type": "code",
   "execution_count": 7,
   "metadata": {},
   "outputs": [
    {
     "data": {
      "text/plain": [
       "2*D^6 + 1*D^8 + 5*D^10 + 5*D^12 + 14*D^14 + Order(D^15)"
      ]
     },
     "execution_count": 7,
     "metadata": {},
     "output_type": "execute_result"
    }
   ],
   "source": [
    "solution[0].series(D, 15)\n",
    "# 2 0 1 0 5"
   ]
  },
  {
   "cell_type": "code",
   "execution_count": 8,
   "metadata": {},
   "outputs": [
    {
     "data": {
      "text/plain": [
       "1*D^5 + 3*D^6 + 4*D^8 + 12*D^9 + Order(D^10)"
      ]
     },
     "execution_count": 8,
     "metadata": {},
     "output_type": "execute_result"
    }
   ],
   "source": [
    "ndi = 3 * D^6 * I^2 + D^5 * I\n",
    "mdi = 3 * D^5 * I + 4 * D^3 * I\n",
    "\n",
    "\n",
    "tdi = ndi / (1-mdi)\n",
    "tdi.subs(I = 1).series(D, 10)\n",
    "# 1 3 0 4 12"
   ]
  },
  {
   "cell_type": "code",
   "execution_count": 9,
   "metadata": {},
   "outputs": [
    {
     "data": {
      "text/plain": [
       "1*D^5 + 6*D^6 + 8*D^8 + 36*D^9 + Order(D^10)"
      ]
     },
     "execution_count": 9,
     "metadata": {},
     "output_type": "execute_result"
    }
   ],
   "source": [
    "tdi.derivative(I).subs(I = 1).series(D, 10)\n",
    "# 1 6 0 8 36"
   ]
  }
 ],
 "metadata": {
  "kernelspec": {
   "display_name": "SageMath 9.2",
   "language": "sage",
   "name": "sagemath"
  },
  "language_info": {
   "codemirror_mode": {
    "name": "ipython",
    "version": 3
   },
   "file_extension": ".py",
   "mimetype": "text/x-python",
   "name": "python",
   "nbconvert_exporter": "python",
   "pygments_lexer": "ipython3",
   "version": "3.8.5"
  }
 },
 "nbformat": 4,
 "nbformat_minor": 4
}
